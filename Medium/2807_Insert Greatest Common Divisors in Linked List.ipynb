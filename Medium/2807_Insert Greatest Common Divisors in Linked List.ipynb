{
 "cells": [
  {
   "cell_type": "markdown",
   "metadata": {},
   "source": [
    "# 2807. Insert Greatest Common Divisors in Linked List"
   ]
  },
  {
   "cell_type": "markdown",
   "metadata": {},
   "source": [
    "## Problem"
   ]
  },
  {
   "cell_type": "markdown",
   "metadata": {},
   "source": [
    "### Description\n",
    "* Given the head of a linked list head, in which each node contains an integer value.\n",
    "\n",
    "* Between every pair of adjacent nodes, insert a new node with a value equal to the greatest common divisor of them.\n",
    "\n",
    "* Return the linked list after insertion.\n",
    "\n",
    "* The greatest common divisor of two numbers is the largest positive integer that evenly divides both numbers.\n",
    "\n",
    "### Example \n",
    "* Example 1:\n",
    "    * Input: head = [18,6,10,3]\n",
    "    * Output: [18,6,6,2,10,1,3]\n",
    "    * Explanation: The 1st diagram denotes the initial linked list and the 2nd diagram denotes the linked list after inserting the new nodes (nodes in blue are the inserted nodes).\n",
    "        - We insert the greatest common divisor of 18 and 6 = 6 between the 1st and the 2nd nodes.\n",
    "        - We insert the greatest common divisor of 6 and 10 = 2 between the 2nd and the 3rd nodes.\n",
    "        - We insert the greatest common divisor of 10 and 3 = 1 between the 3rd and the 4th nodes.\n",
    "    * There are no more adjacent nodes, so we return the linked list.\n",
    "    \n",
    "* Example 2:\n",
    "    * Input: head = [7]\n",
    "    * Output: [7]\n",
    "    * Explanation: The 1st diagram denotes the initial linked list and the 2nd diagram denotes the linked list after inserting the new nodes.\n",
    "    * There are no pairs of adjacent nodes, so we return the initial linked list.\n",
    "\n",
    "    \n",
    "### Constraints\n",
    "* The number of nodes in the list is in the range [1, 5000].\n",
    "\n",
    "* 1 <= Node.val <= 1000"
   ]
  },
  {
   "cell_type": "markdown",
   "metadata": {},
   "source": [
    "## 概念"
   ]
  },
  {
   "cell_type": "markdown",
   "metadata": {},
   "source": [
    "* 要算公因數，可以直接套```math.gcd(num1, num2)```解決"
   ]
  },
  {
   "cell_type": "markdown",
   "metadata": {},
   "source": [
    "## Code"
   ]
  },
  {
   "cell_type": "code",
   "execution_count": 2,
   "metadata": {},
   "outputs": [],
   "source": [
    "import math\n",
    "from utils import ListNode\n",
    "class Solution:\n",
    "    def insertGreatestCommonDivisors(self, head):\n",
    "        index = head\n",
    "        while index and index.next:\n",
    "            temp = index\n",
    "            gcd_val = math.gcd(index.val, index.next.val) # 直接用math.gcd算即可\n",
    "            insert_node = ListNode(gcd_val)\n",
    "            insert_node.next = temp.next\n",
    "            index = index.next\n",
    "            temp.next = insert_node\n",
    "        return head"
   ]
  },
  {
   "cell_type": "code",
   "execution_count": 4,
   "metadata": {},
   "outputs": [
    {
     "name": "stdout",
     "output_type": "stream",
     "text": [
      "[18, 6, 6, 2, 10, 1, 3]\n",
      "[7]\n"
     ]
    }
   ],
   "source": [
    "from utils import createListNode, checkListNode\n",
    "test = Solution()\n",
    "print(checkListNode(test.insertGreatestCommonDivisors(createListNode([18,6,10,3]))))\n",
    "print(checkListNode(test.insertGreatestCommonDivisors(createListNode([7]))))"
   ]
  }
 ],
 "metadata": {
  "kernelspec": {
   "display_name": "Python 3",
   "language": "python",
   "name": "python3"
  },
  "language_info": {
   "codemirror_mode": {
    "name": "ipython",
    "version": 3
   },
   "file_extension": ".py",
   "mimetype": "text/x-python",
   "name": "python",
   "nbconvert_exporter": "python",
   "pygments_lexer": "ipython3",
   "version": "3.11.9"
  }
 },
 "nbformat": 4,
 "nbformat_minor": 2
}
