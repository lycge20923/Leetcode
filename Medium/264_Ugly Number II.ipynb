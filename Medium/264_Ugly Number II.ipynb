{
 "cells": [
  {
   "cell_type": "markdown",
   "metadata": {},
   "source": [
    "# 264. Ugly Number II"
   ]
  },
  {
   "cell_type": "markdown",
   "metadata": {},
   "source": [
    "## Problem"
   ]
  },
  {
   "cell_type": "markdown",
   "metadata": {},
   "source": [
    "### Description\n",
    "* An ugly number is a positive integer whose prime factors are limited to 2, 3, and 5.\n",
    "* Given an integer n, return the nth ugly number.\n",
    "\n",
    "### Example \n",
    "* Example 1:\n",
    "\n",
    "    * Input: n = 10\n",
    "    * Output: 12\n",
    "    * Explanation: [1, 2, 3, 4, 5, 6, 8, 9, 10, 12] is the sequence of the first 10 ugly numbers.\n",
    "* Example 2:\n",
    "\n",
    "    * Input: n = 1\n",
    "    * Output: 1\n",
    "    * Explanation: 1 has no prime factors, therefore all of its prime factors are limited to 2, 3, and 5.\n",
    "### Constraints\n",
    "* 1 <= n <= 1690"
   ]
  },
  {
   "cell_type": "markdown",
   "metadata": {},
   "source": [
    "## 概念"
   ]
  },
  {
   "cell_type": "markdown",
   "metadata": {},
   "source": [
    "* 用**3個Index**來分別代表2, 3, 5在當下的sorted的list當中的值\n",
    "* 每一次要取candidate時，從這三個index所在的值**分別乘上2, 3, 5**，並取得最小值\n",
    "* 判斷最小值後，看**哪一個符合，就將Index+=1**"
   ]
  },
  {
   "cell_type": "markdown",
   "metadata": {},
   "source": [
    "## Code"
   ]
  },
  {
   "cell_type": "code",
   "execution_count": 1,
   "metadata": {},
   "outputs": [],
   "source": [
    "class Solution:\n",
    "    def nthUglyNumber(self, n: int) -> int:\n",
    "        i2, i3, i5 = 0, 0, 0\n",
    "        dp = [1]\n",
    "        for i in range(n - 1):\n",
    "            can_2, can_3, can_5 = dp[i2] * 2, dp[i3] * 3, dp[i5] * 5\n",
    "            chosen = min(can_2, can_3, can_5)\n",
    "            if chosen == can_2:\n",
    "                i2 += 1\n",
    "            if chosen == can_3:\n",
    "                i3 += 1\n",
    "            if chosen == can_5:\n",
    "                i5 += 1\n",
    "            dp.append(chosen)\n",
    "        #print(dp)\n",
    "        return dp[-1]\n"
   ]
  },
  {
   "cell_type": "code",
   "execution_count": 2,
   "metadata": {},
   "outputs": [
    {
     "name": "stdout",
     "output_type": "stream",
     "text": [
      "12 1\n"
     ]
    }
   ],
   "source": [
    "test = Solution()\n",
    "print(test.nthUglyNumber(10), test.nthUglyNumber(1))"
   ]
  }
 ],
 "metadata": {
  "kernelspec": {
   "display_name": "Python 3",
   "language": "python",
   "name": "python3"
  },
  "language_info": {
   "codemirror_mode": {
    "name": "ipython",
    "version": 3
   },
   "file_extension": ".py",
   "mimetype": "text/x-python",
   "name": "python",
   "nbconvert_exporter": "python",
   "pygments_lexer": "ipython3",
   "version": "3.11.9"
  }
 },
 "nbformat": 4,
 "nbformat_minor": 2
}
