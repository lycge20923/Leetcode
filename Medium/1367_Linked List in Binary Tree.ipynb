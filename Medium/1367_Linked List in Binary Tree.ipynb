{
 "cells": [
  {
   "cell_type": "markdown",
   "metadata": {},
   "source": [
    "# 1367. Linked List in Binary Tree"
   ]
  },
  {
   "cell_type": "markdown",
   "metadata": {},
   "source": [
    "## Problem"
   ]
  },
  {
   "cell_type": "markdown",
   "metadata": {},
   "source": [
    "### Description\n",
    "* Given a binary tree root and a linked list with head as the first node. \n",
    "* Return True if all the elements in the linked list starting from the head correspond to some downward path connected in the binary tree otherwise return False.\n",
    "* In this context downward path means a path that starts at some node and goes downwards.\n",
    "\n",
    "### Example \n",
    "* Example 1:\n",
    "    * Input: head = [4,2,8], root = [1,4,4,null,2,2,null,1,null,6,8,null,null,null,null,1,3]  \n",
    "    * Output: true \n",
    "    * Explanation: Nodes in blue form a subpath in the binary Tree. \n",
    "* Example 2:\n",
    "    * Input: head = [1,4,2,6,8], root = [1,4,4,null,2,2,null,1,null,6,8,null,null,null,null,1,3]  \n",
    "    * Output: false\n",
    "    * Explanation: There is no path in the binary tree that contains all the elements of the linked list from head.\n",
    "    \n",
    "### Constraints\n",
    "* The number of nodes in the tree will be in the range [1, 2500].\n",
    "* The number of nodes in the list will be in the range [1, 100].\n",
    "* 1 <= Node.val <= 100 for each node in the linked list and binary tree."
   ]
  },
  {
   "cell_type": "markdown",
   "metadata": {},
   "source": [
    "## 概念"
   ]
  },
  {
   "cell_type": "markdown",
   "metadata": {},
   "source": [
    "* 用DFS外，還需要另外將每次search後的左右subtree存下來，以利後續失敗時trace"
   ]
  },
  {
   "cell_type": "markdown",
   "metadata": {},
   "source": [
    "## Code"
   ]
  },
  {
   "cell_type": "code",
   "execution_count": 1,
   "metadata": {},
   "outputs": [],
   "source": [
    "class Solution:\n",
    "    def isSubPath(self, head, root) -> bool:\n",
    "        def dfs(node, head_temp):\n",
    "            if not node:\n",
    "                return False\n",
    "            if node.val == head_temp.val:\n",
    "                if not head_temp.next:\n",
    "                    return True\n",
    "                return dfs(node.left, head_temp.next) or dfs(node.right, head_temp.next)                \n",
    "        temp_array = [root] # 用來儲存「一旦失敗的下個trace名單」\n",
    "        while temp_array:\n",
    "            for _ in range(len(temp_array)):\n",
    "                curr = temp_array.pop(0)\n",
    "                if dfs(curr, head):\n",
    "                    return True\n",
    "                if curr.left:\n",
    "                    temp_array.append(curr.left)\n",
    "                if curr.right:\n",
    "                    temp_array.append(curr.right)\n",
    "        return False\n"
   ]
  },
  {
   "cell_type": "code",
   "execution_count": 6,
   "metadata": {},
   "outputs": [
    {
     "name": "stdout",
     "output_type": "stream",
     "text": [
      "True\n",
      "True\n",
      "False\n"
     ]
    }
   ],
   "source": [
    "from utils import createListNode, createTreeNode\n",
    "\n",
    "test = Solution()\n",
    "\n",
    "print(test.isSubPath(createListNode([4,2,8]), createTreeNode([1,4,4,None,2,2,None,1,None,6,8,None,None,None,None,1,3])))\n",
    "print(test.isSubPath(createListNode([1,4,2,6]), createTreeNode([1,4,4,None,2,2,None,1,None,6,8,None,None,None,None,1,3])))\n",
    "print(test.isSubPath(createListNode([1,4,2,6,8]), createTreeNode([1,4,4,None,2,2,None,1,None,6,8,None,None,None,None,1,3])))"
   ]
  }
 ],
 "metadata": {
  "kernelspec": {
   "display_name": "Python 3",
   "language": "python",
   "name": "python3"
  },
  "language_info": {
   "codemirror_mode": {
    "name": "ipython",
    "version": 3
   },
   "file_extension": ".py",
   "mimetype": "text/x-python",
   "name": "python",
   "nbconvert_exporter": "python",
   "pygments_lexer": "ipython3",
   "version": "3.11.9"
  }
 },
 "nbformat": 4,
 "nbformat_minor": 2
}
