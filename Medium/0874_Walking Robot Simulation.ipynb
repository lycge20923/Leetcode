{
 "cells": [
  {
   "cell_type": "markdown",
   "metadata": {},
   "source": [
    "# 874. Walking Robot Simulation"
   ]
  },
  {
   "cell_type": "markdown",
   "metadata": {},
   "source": [
    "## Problem"
   ]
  },
  {
   "cell_type": "markdown",
   "metadata": {},
   "source": [
    "### Description\n",
    "* A robot on an infinite XY-plane starts at point (0, 0) facing north. The robot can receive a sequence of these three possible types of commands:\n",
    "    * -2: Turn left 90 degrees.\n",
    "    * -1: Turn right 90 degrees.\n",
    "    * 1 <= k <= 9: Move forward k units, one unit at a time.\n",
    "* Some of the grid squares are obstacles. The ith obstacle is at grid point obstacles[i] = (xi, yi). If the robot runs into an obstacle, then it will instead stay in its current location and move on to the next command.\n",
    "* Return the maximum Euclidean distance that the robot ever gets from the origin squared (i.e. if the distance is 5, return 25).\n",
    "\n",
    "### Example \n",
    "* Example 1:\n",
    "    * Input: commands = [4,-1,3], obstacles = []\n",
    "    * Output: 25\n",
    "    * Explanation: The robot starts at (0, 0):\n",
    "        1. Move north 4 units to (0, 4).\n",
    "        2. Turn right.\n",
    "        3. Move east 3 units to (3, 4).\n",
    "    * The furthest point the robot ever gets from the origin is (3, 4), which squared is 3^2 + 4^2 = 25 units away. \n",
    "* Example 2:\n",
    "    * Input: commands = [4,-1,4,-2,4], obstacles = [[2,4]]\n",
    "    * Output: 65\n",
    "    * Explanation: The robot starts at (0, 0):\n",
    "        1. Move north 4 units to (0, 4).\n",
    "        2. Turn right.\n",
    "        3. Move east 1 unit and get blocked by the obstacle at (2, 4), robot is at (1, 4).\n",
    "        4. Turn left.\n",
    "        5. Move north 4 units to (1, 8).\n",
    "    * The furthest point the robot ever gets from the origin is (1, 8), which squared is 1^2 + 8^2 = 65 units away.\n",
    "    \n",
    "### Constraints\n",
    "* 1 <= commands.length <= 10^4\n",
    "* commands[i] is either -2, -1, or an integer in the range [1, 9].\n",
    "* 0 <= obstacles.length <= 10^4\n",
    "* -3 * 10^4 <= xi, yi <= 3 * 10^4\n",
    "* The answer is guaranteed to be less than 2^31."
   ]
  },
  {
   "cell_type": "markdown",
   "metadata": {},
   "source": [
    "## 概念"
   ]
  },
  {
   "cell_type": "markdown",
   "metadata": {},
   "source": [
    "* 沒什麼大觀念。\n",
    "* 要把obstacles先set(可能裡面有重複的)\n",
    "* 遇到Obstacles時，要停在前一拍\n",
    "* 要如何將```List[List[int]]```中元素取set\n",
    "    1. 做```map(<func>, <list>)```將當中元素轉換成```tuple```\n",
    "    2. 再將上述object取set"
   ]
  },
  {
   "cell_type": "markdown",
   "metadata": {},
   "source": [
    "## Code"
   ]
  },
  {
   "cell_type": "code",
   "execution_count": 4,
   "metadata": {},
   "outputs": [],
   "source": [
    "class Solution:\n",
    "    def robotSim(self, commands, obstacles) -> int:\n",
    "        directions = {0:[0, 1], 1:[-1, 0], 2:[0, -1], 3:[1, 0]}\n",
    "        obstacles = set(map(tuple, obstacles))\n",
    "        pos, dire = [0, 0], 0\n",
    "        res = 0\n",
    "        for c in commands:\n",
    "            if c == -2:\n",
    "                dire = (dire + 1) % 4\n",
    "            elif c == -1:\n",
    "                dire = (dire - 1) % 4\n",
    "            else:\n",
    "                temp_dir = directions[dire]\n",
    "                for _ in range(c):\n",
    "                    temp_x, temp_y = pos[0] + temp_dir[0], pos[1] + temp_dir[1]\n",
    "                    if (temp_x, temp_y) in obstacles:\n",
    "                        break\n",
    "                    pos = [temp_x, temp_y]\n",
    "                res = max(res, pos[0] ** 2 + pos[1] ** 2)\n",
    "        return res"
   ]
  },
  {
   "cell_type": "code",
   "execution_count": 7,
   "metadata": {},
   "outputs": [
    {
     "name": "stdout",
     "output_type": "stream",
     "text": [
      "25\n",
      "65\n"
     ]
    }
   ],
   "source": [
    "test = Solution()\n",
    "print(test.robotSim([4,-1,3], []))\n",
    "print(test.robotSim([4,-1,4,-2,4], [[2,4]]))"
   ]
  }
 ],
 "metadata": {
  "kernelspec": {
   "display_name": "Python 3",
   "language": "python",
   "name": "python3"
  },
  "language_info": {
   "codemirror_mode": {
    "name": "ipython",
    "version": 3
   },
   "file_extension": ".py",
   "mimetype": "text/x-python",
   "name": "python",
   "nbconvert_exporter": "python",
   "pygments_lexer": "ipython3",
   "version": "3.11.9"
  }
 },
 "nbformat": 4,
 "nbformat_minor": 2
}
