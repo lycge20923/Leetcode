{
 "cells": [
  {
   "cell_type": "markdown",
   "metadata": {},
   "source": [
    "# 2 Keys Keyboard"
   ]
  },
  {
   "cell_type": "markdown",
   "metadata": {},
   "source": [
    "## Problem"
   ]
  },
  {
   "cell_type": "markdown",
   "metadata": {},
   "source": [
    "### Description\n",
    "There is only one character 'A' on the screen of a notepad. You can perform one of two operations on this notepad for each step:\n",
    "\n",
    "* Copy All: You can copy all the characters present on the screen (a partial copy is not allowed).\n",
    "* Paste: You can paste the characters which are copied last time.\n",
    "Given an integer n, return the minimum number of operations to get the character 'A' exactly n times on the screen.\n",
    "\n",
    "### Example \n",
    "* Example 1\n",
    "    * Input: n = 3\n",
    "    * Output: 3\n",
    "    * Explanation: Initially, we have one character 'A'.\n",
    "        1. In step 1, we use Copy All operation.\n",
    "        2. In step 2, we use Paste operation to get 'AA'.\n",
    "        3. In step 3, we use Paste operation to get 'AAA'.\n",
    "\n",
    "* Example 2:\n",
    "    * Input: n = 1\n",
    "    * Output: 0\n",
    "    \n",
    "### Constraints\n",
    "* 1 <= n <= 1000"
   ]
  },
  {
   "cell_type": "markdown",
   "metadata": {},
   "source": [
    "## 概念"
   ]
  },
  {
   "cell_type": "markdown",
   "metadata": {},
   "source": [
    "* 從2開始，一旦可以除盡就除\n",
    "* 除盡後，就當作接下來就是每*個一數"
   ]
  },
  {
   "cell_type": "markdown",
   "metadata": {},
   "source": [
    "## Code"
   ]
  },
  {
   "cell_type": "code",
   "execution_count": 6,
   "metadata": {},
   "outputs": [],
   "source": [
    "class Solution:\n",
    "    def minSteps(self, n: int) -> int:\n",
    "        steps = 0\n",
    "        for i in range(2, n + 1):\n",
    "            while n % i == 0:\n",
    "                steps += i\n",
    "                n = n // i\n",
    "        return steps \n",
    "\n",
    "        \n"
   ]
  },
  {
   "cell_type": "code",
   "execution_count": 7,
   "metadata": {},
   "outputs": [
    {
     "name": "stdout",
     "output_type": "stream",
     "text": [
      "3\n",
      "0\n"
     ]
    }
   ],
   "source": [
    "test = Solution()\n",
    "print(test.minSteps(3))\n",
    "print(test.minSteps(1))"
   ]
  }
 ],
 "metadata": {
  "kernelspec": {
   "display_name": "Python 3",
   "language": "python",
   "name": "python3"
  },
  "language_info": {
   "codemirror_mode": {
    "name": "ipython",
    "version": 3
   },
   "file_extension": ".py",
   "mimetype": "text/x-python",
   "name": "python",
   "nbconvert_exporter": "python",
   "pygments_lexer": "ipython3",
   "version": "3.11.9"
  }
 },
 "nbformat": 4,
 "nbformat_minor": 2
}
